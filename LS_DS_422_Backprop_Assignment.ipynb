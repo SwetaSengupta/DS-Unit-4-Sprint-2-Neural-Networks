{
  "nbformat": 4,
  "nbformat_minor": 0,
  "metadata": {
    "colab": {
      "name": "LS_DS_422_Backprop_Assignment.ipynb",
      "provenance": [],
      "include_colab_link": true
    },
    "kernelspec": {
      "display_name": "neural (Python3)",
      "language": "python",
      "name": "neural"
    },
    "language_info": {
      "codemirror_mode": {
        "name": "ipython",
        "version": 3
      },
      "file_extension": ".py",
      "mimetype": "text/x-python",
      "name": "python",
      "nbconvert_exporter": "python",
      "pygments_lexer": "ipython3",
      "version": "3.7.7"
    },
    "nteract": {
      "version": "0.22.4"
    },
    "accelerator": "GPU"
  },
  "cells": [
    {
      "cell_type": "markdown",
      "metadata": {
        "id": "view-in-github",
        "colab_type": "text"
      },
      "source": [
        "<a href=\"https://colab.research.google.com/github/SwetaSengupta/DS-Unit-4-Sprint-2-Neural-Networks/blob/main/LS_DS_422_Backprop_Assignment.ipynb\" target=\"_parent\"><img src=\"https://colab.research.google.com/assets/colab-badge.svg\" alt=\"Open In Colab\"/></a>"
      ]
    },
    {
      "cell_type": "markdown",
      "metadata": {
        "colab_type": "text",
        "id": "NGGrt9EYlCqY"
      },
      "source": [
        "<img align=\"left\" src=\"https://lever-client-logos.s3.amazonaws.com/864372b1-534c-480e-acd5-9711f850815c-1524247202159.png\" width=200>\n",
        "<br></br>\n",
        "\n",
        "# Backpropagation Practice\n",
        "\n",
        "## *Data Science Unit 4 Sprint 2 Assignment 2*\n",
        "\n",
        "Using TensorFlow Keras, Implement a 3 input, 4 node hidden-layer, 1 output node Multilayer Perceptron on the following dataset:\n",
        "\n",
        "| x1 | x2 | x3 | y |\n",
        "|----|----|----|---|\n",
        "| 0  | 0  | 1  | 0 |\n",
        "| 0  | 1  | 1  | 1 |\n",
        "| 1  | 0  | 1  | 1 |\n",
        "| 0  | 1  | 0  | 1 |\n",
        "| 1  | 0  | 0  | 1 |\n",
        "| 1  | 1  | 1  | 0 |\n",
        "| 0  | 0  | 0  | 0 |\n",
        "\n",
        "If you look at the data you'll notice that the first two columns behave like an XOR gate while the last column is mostly just noise. Remember that creating an XOR gate was what the perceptron was criticized for not being able to learn.\n",
        "\n",
        "This is your \"Hello World!\" of TensorFlow.\n",
        "\n",
        "### Example TensorFlow Starter Code\n",
        "\n",
        "```python \n",
        "from tensorflow.keras.models import Sequential\n",
        "from tensorflow.keras.layers import Dense\n",
        "\n",
        "model = Sequential([\n",
        "    Dense(3, activation='sigmoid', input_dim=2),\n",
        "    Dense(1, activation='sigmoid')\n",
        "])\n",
        "\n",
        "model.compile(optimizer='sgd', loss='binary_crossentropy', metrics=['acc'])\n",
        "\n",
        "results = model.fit(X,y, epochs=100)\n",
        "\n",
        "```\n",
        "\n",
        "### Additional Written Tasks:\n",
        "1. Investigate the various [loss functions](https://www.tensorflow.org/api_docs/python/tf/keras/losses). Which is best suited for the task at hand (predicting 1 / 0) and why? \n",
        "2. What is the difference between a loss function and a metric? Why might we need both in Keras? \n",
        "3. Investigate the various [optimizers](https://www.tensorflow.org/api_docs/python/tf/keras/optimizers). Stochastic Gradient Descent (`sgd`) is not the learning algorithm dejour anyone. Why is that? What do newer optimizers such as `adam` have to offer? "
      ]
    },
    {
      "cell_type": "code",
      "metadata": {
        "colab_type": "code",
        "id": "nEREYT-3wI1f",
        "colab": {}
      },
      "source": [
        "##### Your Code Here #####\n",
        "import numpy as np\n",
        "from tensorflow.keras.models import Sequential\n",
        "from tensorflow.keras.layers import Dense, Flatten\n",
        "from tensorflow.keras.callbacks import EarlyStopping\n",
        "import tensorflow as tf\n",
        "\n"
      ],
      "execution_count": 2,
      "outputs": []
    },
    {
      "cell_type": "code",
      "metadata": {
        "id": "-HXBa9o3SeL8",
        "colab_type": "code",
        "colab": {}
      },
      "source": [
        "# set up the input and output tables\n",
        "X = np.array([\n",
        "    [0, 0, 1],\n",
        "    [0, 1, 1],\n",
        "    [1, 0, 1],\n",
        "    [0, 1, 0],\n",
        "    [1, 0, 0],\n",
        "    [1, 1, 1],\n",
        "    [0, 0, 0]\n",
        "])\n",
        "y = np.array([[0],[1],[1],[1],[1],[0],[0]])"
      ],
      "execution_count": 3,
      "outputs": []
    },
    {
      "cell_type": "code",
      "metadata": {
        "id": "uMJpwqtiSegC",
        "colab_type": "code",
        "colab": {
          "base_uri": "https://localhost:8080/",
          "height": 1000
        },
        "outputId": "6b32c404-694d-4169-87ba-e3efb3a3480e"
      },
      "source": [
        "# initialize the tensorflow model\n",
        "model = Sequential([\n",
        "    Dense(4, activation='sigmoid', input_dim=3),\n",
        "    Dense(1, activation='sigmoid')\n",
        "])\n",
        "# comple it\n",
        "model.compile(optimizer='adam', loss='mse', metrics=['mae','mse'])\n",
        "\n",
        "results = model.fit(X,y, epochs=100)"
      ],
      "execution_count": 4,
      "outputs": [
        {
          "output_type": "stream",
          "text": [
            "Epoch 1/100\n",
            "1/1 [==============================] - 0s 2ms/step - loss: 0.2620 - mae: 0.5090 - mse: 0.2620\n",
            "Epoch 2/100\n",
            "1/1 [==============================] - 0s 1ms/step - loss: 0.2618 - mae: 0.5088 - mse: 0.2618\n",
            "Epoch 3/100\n",
            "1/1 [==============================] - 0s 1ms/step - loss: 0.2615 - mae: 0.5086 - mse: 0.2615\n",
            "Epoch 4/100\n",
            "1/1 [==============================] - 0s 2ms/step - loss: 0.2612 - mae: 0.5085 - mse: 0.2612\n",
            "Epoch 5/100\n",
            "1/1 [==============================] - 0s 2ms/step - loss: 0.2610 - mae: 0.5083 - mse: 0.2610\n",
            "Epoch 6/100\n",
            "1/1 [==============================] - 0s 1ms/step - loss: 0.2607 - mae: 0.5081 - mse: 0.2607\n",
            "Epoch 7/100\n",
            "1/1 [==============================] - 0s 2ms/step - loss: 0.2605 - mae: 0.5079 - mse: 0.2605\n",
            "Epoch 8/100\n",
            "1/1 [==============================] - 0s 2ms/step - loss: 0.2602 - mae: 0.5078 - mse: 0.2602\n",
            "Epoch 9/100\n",
            "1/1 [==============================] - 0s 1ms/step - loss: 0.2600 - mae: 0.5076 - mse: 0.2600\n",
            "Epoch 10/100\n",
            "1/1 [==============================] - 0s 2ms/step - loss: 0.2597 - mae: 0.5074 - mse: 0.2597\n",
            "Epoch 11/100\n",
            "1/1 [==============================] - 0s 2ms/step - loss: 0.2595 - mae: 0.5073 - mse: 0.2595\n",
            "Epoch 12/100\n",
            "1/1 [==============================] - 0s 3ms/step - loss: 0.2592 - mae: 0.5071 - mse: 0.2592\n",
            "Epoch 13/100\n",
            "1/1 [==============================] - 0s 3ms/step - loss: 0.2590 - mae: 0.5069 - mse: 0.2590\n",
            "Epoch 14/100\n",
            "1/1 [==============================] - 0s 2ms/step - loss: 0.2588 - mae: 0.5068 - mse: 0.2588\n",
            "Epoch 15/100\n",
            "1/1 [==============================] - 0s 2ms/step - loss: 0.2585 - mae: 0.5066 - mse: 0.2585\n",
            "Epoch 16/100\n",
            "1/1 [==============================] - 0s 1ms/step - loss: 0.2583 - mae: 0.5064 - mse: 0.2583\n",
            "Epoch 17/100\n",
            "1/1 [==============================] - 0s 1ms/step - loss: 0.2581 - mae: 0.5063 - mse: 0.2581\n",
            "Epoch 18/100\n",
            "1/1 [==============================] - 0s 2ms/step - loss: 0.2578 - mae: 0.5061 - mse: 0.2578\n",
            "Epoch 19/100\n",
            "1/1 [==============================] - 0s 1ms/step - loss: 0.2576 - mae: 0.5059 - mse: 0.2576\n",
            "Epoch 20/100\n",
            "1/1 [==============================] - 0s 1ms/step - loss: 0.2574 - mae: 0.5058 - mse: 0.2574\n",
            "Epoch 21/100\n",
            "1/1 [==============================] - 0s 1ms/step - loss: 0.2572 - mae: 0.5056 - mse: 0.2572\n",
            "Epoch 22/100\n",
            "1/1 [==============================] - 0s 1ms/step - loss: 0.2570 - mae: 0.5054 - mse: 0.2570\n",
            "Epoch 23/100\n",
            "1/1 [==============================] - 0s 1ms/step - loss: 0.2568 - mae: 0.5053 - mse: 0.2568\n",
            "Epoch 24/100\n",
            "1/1 [==============================] - 0s 3ms/step - loss: 0.2566 - mae: 0.5051 - mse: 0.2566\n",
            "Epoch 25/100\n",
            "1/1 [==============================] - 0s 3ms/step - loss: 0.2564 - mae: 0.5049 - mse: 0.2564\n",
            "Epoch 26/100\n",
            "1/1 [==============================] - 0s 2ms/step - loss: 0.2562 - mae: 0.5048 - mse: 0.2562\n",
            "Epoch 27/100\n",
            "1/1 [==============================] - 0s 3ms/step - loss: 0.2560 - mae: 0.5046 - mse: 0.2560\n",
            "Epoch 28/100\n",
            "1/1 [==============================] - 0s 1ms/step - loss: 0.2558 - mae: 0.5044 - mse: 0.2558\n",
            "Epoch 29/100\n",
            "1/1 [==============================] - 0s 2ms/step - loss: 0.2556 - mae: 0.5043 - mse: 0.2556\n",
            "Epoch 30/100\n",
            "1/1 [==============================] - 0s 1ms/step - loss: 0.2554 - mae: 0.5041 - mse: 0.2554\n",
            "Epoch 31/100\n",
            "1/1 [==============================] - 0s 1ms/step - loss: 0.2552 - mae: 0.5040 - mse: 0.2552\n",
            "Epoch 32/100\n",
            "1/1 [==============================] - 0s 3ms/step - loss: 0.2550 - mae: 0.5038 - mse: 0.2550\n",
            "Epoch 33/100\n",
            "1/1 [==============================] - 0s 983us/step - loss: 0.2548 - mae: 0.5036 - mse: 0.2548\n",
            "Epoch 34/100\n",
            "1/1 [==============================] - 0s 2ms/step - loss: 0.2547 - mae: 0.5035 - mse: 0.2547\n",
            "Epoch 35/100\n",
            "1/1 [==============================] - 0s 1ms/step - loss: 0.2545 - mae: 0.5033 - mse: 0.2545\n",
            "Epoch 36/100\n",
            "1/1 [==============================] - 0s 1ms/step - loss: 0.2543 - mae: 0.5032 - mse: 0.2543\n",
            "Epoch 37/100\n",
            "1/1 [==============================] - 0s 1ms/step - loss: 0.2542 - mae: 0.5030 - mse: 0.2542\n",
            "Epoch 38/100\n",
            "1/1 [==============================] - 0s 2ms/step - loss: 0.2540 - mae: 0.5029 - mse: 0.2540\n",
            "Epoch 39/100\n",
            "1/1 [==============================] - 0s 1ms/step - loss: 0.2538 - mae: 0.5027 - mse: 0.2538\n",
            "Epoch 40/100\n",
            "1/1 [==============================] - 0s 3ms/step - loss: 0.2537 - mae: 0.5025 - mse: 0.2537\n",
            "Epoch 41/100\n",
            "1/1 [==============================] - 0s 1ms/step - loss: 0.2535 - mae: 0.5024 - mse: 0.2535\n",
            "Epoch 42/100\n",
            "1/1 [==============================] - 0s 1ms/step - loss: 0.2534 - mae: 0.5022 - mse: 0.2534\n",
            "Epoch 43/100\n",
            "1/1 [==============================] - 0s 2ms/step - loss: 0.2532 - mae: 0.5021 - mse: 0.2532\n",
            "Epoch 44/100\n",
            "1/1 [==============================] - 0s 1ms/step - loss: 0.2531 - mae: 0.5019 - mse: 0.2531\n",
            "Epoch 45/100\n",
            "1/1 [==============================] - 0s 2ms/step - loss: 0.2529 - mae: 0.5018 - mse: 0.2529\n",
            "Epoch 46/100\n",
            "1/1 [==============================] - 0s 2ms/step - loss: 0.2528 - mae: 0.5016 - mse: 0.2528\n",
            "Epoch 47/100\n",
            "1/1 [==============================] - 0s 2ms/step - loss: 0.2526 - mae: 0.5015 - mse: 0.2526\n",
            "Epoch 48/100\n",
            "1/1 [==============================] - 0s 2ms/step - loss: 0.2525 - mae: 0.5013 - mse: 0.2525\n",
            "Epoch 49/100\n",
            "1/1 [==============================] - 0s 2ms/step - loss: 0.2524 - mae: 0.5012 - mse: 0.2524\n",
            "Epoch 50/100\n",
            "1/1 [==============================] - 0s 3ms/step - loss: 0.2522 - mae: 0.5010 - mse: 0.2522\n",
            "Epoch 51/100\n",
            "1/1 [==============================] - 0s 987us/step - loss: 0.2521 - mae: 0.5009 - mse: 0.2521\n",
            "Epoch 52/100\n",
            "1/1 [==============================] - 0s 2ms/step - loss: 0.2520 - mae: 0.5008 - mse: 0.2520\n",
            "Epoch 53/100\n",
            "1/1 [==============================] - 0s 3ms/step - loss: 0.2518 - mae: 0.5006 - mse: 0.2518\n",
            "Epoch 54/100\n",
            "1/1 [==============================] - 0s 2ms/step - loss: 0.2517 - mae: 0.5005 - mse: 0.2517\n",
            "Epoch 55/100\n",
            "1/1 [==============================] - 0s 2ms/step - loss: 0.2516 - mae: 0.5003 - mse: 0.2516\n",
            "Epoch 56/100\n",
            "1/1 [==============================] - 0s 2ms/step - loss: 0.2515 - mae: 0.5002 - mse: 0.2515\n",
            "Epoch 57/100\n",
            "1/1 [==============================] - 0s 4ms/step - loss: 0.2513 - mae: 0.5001 - mse: 0.2513\n",
            "Epoch 58/100\n",
            "1/1 [==============================] - 0s 4ms/step - loss: 0.2512 - mae: 0.4999 - mse: 0.2512\n",
            "Epoch 59/100\n",
            "1/1 [==============================] - 0s 3ms/step - loss: 0.2511 - mae: 0.4998 - mse: 0.2511\n",
            "Epoch 60/100\n",
            "1/1 [==============================] - 0s 2ms/step - loss: 0.2510 - mae: 0.4996 - mse: 0.2510\n",
            "Epoch 61/100\n",
            "1/1 [==============================] - 0s 2ms/step - loss: 0.2509 - mae: 0.4995 - mse: 0.2509\n",
            "Epoch 62/100\n",
            "1/1 [==============================] - 0s 3ms/step - loss: 0.2508 - mae: 0.4994 - mse: 0.2508\n",
            "Epoch 63/100\n",
            "1/1 [==============================] - 0s 3ms/step - loss: 0.2507 - mae: 0.4992 - mse: 0.2507\n",
            "Epoch 64/100\n",
            "1/1 [==============================] - 0s 4ms/step - loss: 0.2505 - mae: 0.4991 - mse: 0.2505\n",
            "Epoch 65/100\n",
            "1/1 [==============================] - 0s 2ms/step - loss: 0.2504 - mae: 0.4990 - mse: 0.2504\n",
            "Epoch 66/100\n",
            "1/1 [==============================] - 0s 1ms/step - loss: 0.2503 - mae: 0.4988 - mse: 0.2503\n",
            "Epoch 67/100\n",
            "1/1 [==============================] - 0s 3ms/step - loss: 0.2502 - mae: 0.4987 - mse: 0.2502\n",
            "Epoch 68/100\n",
            "1/1 [==============================] - 0s 1ms/step - loss: 0.2501 - mae: 0.4986 - mse: 0.2501\n",
            "Epoch 69/100\n",
            "1/1 [==============================] - 0s 1ms/step - loss: 0.2500 - mae: 0.4985 - mse: 0.2500\n",
            "Epoch 70/100\n",
            "1/1 [==============================] - 0s 2ms/step - loss: 0.2499 - mae: 0.4983 - mse: 0.2499\n",
            "Epoch 71/100\n",
            "1/1 [==============================] - 0s 2ms/step - loss: 0.2498 - mae: 0.4982 - mse: 0.2498\n",
            "Epoch 72/100\n",
            "1/1 [==============================] - 0s 3ms/step - loss: 0.2497 - mae: 0.4981 - mse: 0.2497\n",
            "Epoch 73/100\n",
            "1/1 [==============================] - 0s 8ms/step - loss: 0.2497 - mae: 0.4980 - mse: 0.2497\n",
            "Epoch 74/100\n",
            "1/1 [==============================] - 0s 1ms/step - loss: 0.2496 - mae: 0.4978 - mse: 0.2496\n",
            "Epoch 75/100\n",
            "1/1 [==============================] - 0s 3ms/step - loss: 0.2495 - mae: 0.4977 - mse: 0.2495\n",
            "Epoch 76/100\n",
            "1/1 [==============================] - 0s 2ms/step - loss: 0.2494 - mae: 0.4976 - mse: 0.2494\n",
            "Epoch 77/100\n",
            "1/1 [==============================] - 0s 5ms/step - loss: 0.2493 - mae: 0.4975 - mse: 0.2493\n",
            "Epoch 78/100\n",
            "1/1 [==============================] - 0s 2ms/step - loss: 0.2492 - mae: 0.4973 - mse: 0.2492\n",
            "Epoch 79/100\n",
            "1/1 [==============================] - 0s 4ms/step - loss: 0.2491 - mae: 0.4972 - mse: 0.2491\n",
            "Epoch 80/100\n",
            "1/1 [==============================] - 0s 1ms/step - loss: 0.2490 - mae: 0.4971 - mse: 0.2490\n",
            "Epoch 81/100\n",
            "1/1 [==============================] - 0s 4ms/step - loss: 0.2490 - mae: 0.4970 - mse: 0.2490\n",
            "Epoch 82/100\n",
            "1/1 [==============================] - 0s 3ms/step - loss: 0.2489 - mae: 0.4969 - mse: 0.2489\n",
            "Epoch 83/100\n",
            "1/1 [==============================] - 0s 2ms/step - loss: 0.2488 - mae: 0.4968 - mse: 0.2488\n",
            "Epoch 84/100\n",
            "1/1 [==============================] - 0s 4ms/step - loss: 0.2487 - mae: 0.4966 - mse: 0.2487\n",
            "Epoch 85/100\n",
            "1/1 [==============================] - 0s 3ms/step - loss: 0.2486 - mae: 0.4965 - mse: 0.2486\n",
            "Epoch 86/100\n",
            "1/1 [==============================] - 0s 1ms/step - loss: 0.2486 - mae: 0.4964 - mse: 0.2486\n",
            "Epoch 87/100\n",
            "1/1 [==============================] - 0s 3ms/step - loss: 0.2485 - mae: 0.4963 - mse: 0.2485\n",
            "Epoch 88/100\n",
            "1/1 [==============================] - 0s 1ms/step - loss: 0.2484 - mae: 0.4962 - mse: 0.2484\n",
            "Epoch 89/100\n",
            "1/1 [==============================] - 0s 1ms/step - loss: 0.2483 - mae: 0.4961 - mse: 0.2483\n",
            "Epoch 90/100\n",
            "1/1 [==============================] - 0s 1ms/step - loss: 0.2483 - mae: 0.4960 - mse: 0.2483\n",
            "Epoch 91/100\n",
            "1/1 [==============================] - 0s 2ms/step - loss: 0.2482 - mae: 0.4959 - mse: 0.2482\n",
            "Epoch 92/100\n",
            "1/1 [==============================] - 0s 2ms/step - loss: 0.2481 - mae: 0.4958 - mse: 0.2481\n",
            "Epoch 93/100\n",
            "1/1 [==============================] - 0s 2ms/step - loss: 0.2480 - mae: 0.4957 - mse: 0.2480\n",
            "Epoch 94/100\n",
            "1/1 [==============================] - 0s 1ms/step - loss: 0.2480 - mae: 0.4955 - mse: 0.2480\n",
            "Epoch 95/100\n",
            "1/1 [==============================] - 0s 3ms/step - loss: 0.2479 - mae: 0.4954 - mse: 0.2479\n",
            "Epoch 96/100\n",
            "1/1 [==============================] - 0s 1ms/step - loss: 0.2478 - mae: 0.4953 - mse: 0.2478\n",
            "Epoch 97/100\n",
            "1/1 [==============================] - 0s 5ms/step - loss: 0.2478 - mae: 0.4952 - mse: 0.2478\n",
            "Epoch 98/100\n",
            "1/1 [==============================] - 0s 4ms/step - loss: 0.2477 - mae: 0.4951 - mse: 0.2477\n",
            "Epoch 99/100\n",
            "1/1 [==============================] - 0s 3ms/step - loss: 0.2476 - mae: 0.4950 - mse: 0.2476\n",
            "Epoch 100/100\n",
            "1/1 [==============================] - 0s 2ms/step - loss: 0.2476 - mae: 0.4949 - mse: 0.2476\n"
          ],
          "name": "stdout"
        }
      ]
    },
    {
      "cell_type": "code",
      "metadata": {
        "id": "jk4hSGhaSejd",
        "colab_type": "code",
        "colab": {
          "base_uri": "https://localhost:8080/",
          "height": 1000
        },
        "outputId": "cf923717-fad2-4122-f5c6-8dd7908414e4"
      },
      "source": [
        "# initialize the tensorflow model\n",
        "model = Sequential([\n",
        "    Dense(4, activation='relu', input_dim=3),\n",
        "    Dense(1, activation='relu')\n",
        "])\n",
        "# comple it\n",
        "model.compile(optimizer='sgd', loss='mse', metrics=['mae','mse'])\n",
        "\n",
        "results = model.fit(X,y, epochs=100)"
      ],
      "execution_count": 5,
      "outputs": [
        {
          "output_type": "stream",
          "text": [
            "Epoch 1/100\n",
            "1/1 [==============================] - 0s 2ms/step - loss: 0.5714 - mae: 0.5714 - mse: 0.5714\n",
            "Epoch 2/100\n",
            "1/1 [==============================] - 0s 1ms/step - loss: 0.5714 - mae: 0.5714 - mse: 0.5714\n",
            "Epoch 3/100\n",
            "1/1 [==============================] - 0s 3ms/step - loss: 0.5714 - mae: 0.5714 - mse: 0.5714\n",
            "Epoch 4/100\n",
            "1/1 [==============================] - 0s 4ms/step - loss: 0.5714 - mae: 0.5714 - mse: 0.5714\n",
            "Epoch 5/100\n",
            "1/1 [==============================] - 0s 2ms/step - loss: 0.5714 - mae: 0.5714 - mse: 0.5714\n",
            "Epoch 6/100\n",
            "1/1 [==============================] - 0s 2ms/step - loss: 0.5714 - mae: 0.5714 - mse: 0.5714\n",
            "Epoch 7/100\n",
            "1/1 [==============================] - 0s 2ms/step - loss: 0.5714 - mae: 0.5714 - mse: 0.5714\n",
            "Epoch 8/100\n",
            "1/1 [==============================] - 0s 1ms/step - loss: 0.5714 - mae: 0.5714 - mse: 0.5714\n",
            "Epoch 9/100\n",
            "1/1 [==============================] - 0s 2ms/step - loss: 0.5714 - mae: 0.5714 - mse: 0.5714\n",
            "Epoch 10/100\n",
            "1/1 [==============================] - 0s 1ms/step - loss: 0.5714 - mae: 0.5714 - mse: 0.5714\n",
            "Epoch 11/100\n",
            "1/1 [==============================] - 0s 2ms/step - loss: 0.5714 - mae: 0.5714 - mse: 0.5714\n",
            "Epoch 12/100\n",
            "1/1 [==============================] - 0s 1ms/step - loss: 0.5714 - mae: 0.5714 - mse: 0.5714\n",
            "Epoch 13/100\n",
            "1/1 [==============================] - 0s 1ms/step - loss: 0.5714 - mae: 0.5714 - mse: 0.5714\n",
            "Epoch 14/100\n",
            "1/1 [==============================] - 0s 1ms/step - loss: 0.5714 - mae: 0.5714 - mse: 0.5714\n",
            "Epoch 15/100\n",
            "1/1 [==============================] - 0s 1000us/step - loss: 0.5714 - mae: 0.5714 - mse: 0.5714\n",
            "Epoch 16/100\n",
            "1/1 [==============================] - 0s 1ms/step - loss: 0.5714 - mae: 0.5714 - mse: 0.5714\n",
            "Epoch 17/100\n",
            "1/1 [==============================] - 0s 2ms/step - loss: 0.5714 - mae: 0.5714 - mse: 0.5714\n",
            "Epoch 18/100\n",
            "1/1 [==============================] - 0s 3ms/step - loss: 0.5714 - mae: 0.5714 - mse: 0.5714\n",
            "Epoch 19/100\n",
            "1/1 [==============================] - 0s 3ms/step - loss: 0.5714 - mae: 0.5714 - mse: 0.5714\n",
            "Epoch 20/100\n",
            "1/1 [==============================] - 0s 3ms/step - loss: 0.5714 - mae: 0.5714 - mse: 0.5714\n",
            "Epoch 21/100\n",
            "1/1 [==============================] - 0s 2ms/step - loss: 0.5714 - mae: 0.5714 - mse: 0.5714\n",
            "Epoch 22/100\n",
            "1/1 [==============================] - 0s 3ms/step - loss: 0.5714 - mae: 0.5714 - mse: 0.5714\n",
            "Epoch 23/100\n",
            "1/1 [==============================] - 0s 3ms/step - loss: 0.5714 - mae: 0.5714 - mse: 0.5714\n",
            "Epoch 24/100\n",
            "1/1 [==============================] - 0s 2ms/step - loss: 0.5714 - mae: 0.5714 - mse: 0.5714\n",
            "Epoch 25/100\n",
            "1/1 [==============================] - 0s 4ms/step - loss: 0.5714 - mae: 0.5714 - mse: 0.5714\n",
            "Epoch 26/100\n",
            "1/1 [==============================] - 0s 1ms/step - loss: 0.5714 - mae: 0.5714 - mse: 0.5714\n",
            "Epoch 27/100\n",
            "1/1 [==============================] - 0s 2ms/step - loss: 0.5714 - mae: 0.5714 - mse: 0.5714\n",
            "Epoch 28/100\n",
            "1/1 [==============================] - 0s 2ms/step - loss: 0.5714 - mae: 0.5714 - mse: 0.5714\n",
            "Epoch 29/100\n",
            "1/1 [==============================] - 0s 3ms/step - loss: 0.5714 - mae: 0.5714 - mse: 0.5714\n",
            "Epoch 30/100\n",
            "1/1 [==============================] - 0s 3ms/step - loss: 0.5714 - mae: 0.5714 - mse: 0.5714\n",
            "Epoch 31/100\n",
            "1/1 [==============================] - 0s 2ms/step - loss: 0.5714 - mae: 0.5714 - mse: 0.5714\n",
            "Epoch 32/100\n",
            "1/1 [==============================] - 0s 3ms/step - loss: 0.5714 - mae: 0.5714 - mse: 0.5714\n",
            "Epoch 33/100\n",
            "1/1 [==============================] - 0s 3ms/step - loss: 0.5714 - mae: 0.5714 - mse: 0.5714\n",
            "Epoch 34/100\n",
            "1/1 [==============================] - 0s 3ms/step - loss: 0.5714 - mae: 0.5714 - mse: 0.5714\n",
            "Epoch 35/100\n",
            "1/1 [==============================] - 0s 3ms/step - loss: 0.5714 - mae: 0.5714 - mse: 0.5714\n",
            "Epoch 36/100\n",
            "1/1 [==============================] - 0s 2ms/step - loss: 0.5714 - mae: 0.5714 - mse: 0.5714\n",
            "Epoch 37/100\n",
            "1/1 [==============================] - 0s 2ms/step - loss: 0.5714 - mae: 0.5714 - mse: 0.5714\n",
            "Epoch 38/100\n",
            "1/1 [==============================] - 0s 2ms/step - loss: 0.5714 - mae: 0.5714 - mse: 0.5714\n",
            "Epoch 39/100\n",
            "1/1 [==============================] - 0s 2ms/step - loss: 0.5714 - mae: 0.5714 - mse: 0.5714\n",
            "Epoch 40/100\n",
            "1/1 [==============================] - 0s 1ms/step - loss: 0.5714 - mae: 0.5714 - mse: 0.5714\n",
            "Epoch 41/100\n",
            "1/1 [==============================] - 0s 2ms/step - loss: 0.5714 - mae: 0.5714 - mse: 0.5714\n",
            "Epoch 42/100\n",
            "1/1 [==============================] - 0s 3ms/step - loss: 0.5714 - mae: 0.5714 - mse: 0.5714\n",
            "Epoch 43/100\n",
            "1/1 [==============================] - 0s 3ms/step - loss: 0.5714 - mae: 0.5714 - mse: 0.5714\n",
            "Epoch 44/100\n",
            "1/1 [==============================] - 0s 2ms/step - loss: 0.5714 - mae: 0.5714 - mse: 0.5714\n",
            "Epoch 45/100\n",
            "1/1 [==============================] - 0s 2ms/step - loss: 0.5714 - mae: 0.5714 - mse: 0.5714\n",
            "Epoch 46/100\n",
            "1/1 [==============================] - 0s 987us/step - loss: 0.5714 - mae: 0.5714 - mse: 0.5714\n",
            "Epoch 47/100\n",
            "1/1 [==============================] - 0s 4ms/step - loss: 0.5714 - mae: 0.5714 - mse: 0.5714\n",
            "Epoch 48/100\n",
            "1/1 [==============================] - 0s 2ms/step - loss: 0.5714 - mae: 0.5714 - mse: 0.5714\n",
            "Epoch 49/100\n",
            "1/1 [==============================] - 0s 3ms/step - loss: 0.5714 - mae: 0.5714 - mse: 0.5714\n",
            "Epoch 50/100\n",
            "1/1 [==============================] - 0s 1ms/step - loss: 0.5714 - mae: 0.5714 - mse: 0.5714\n",
            "Epoch 51/100\n",
            "1/1 [==============================] - 0s 1ms/step - loss: 0.5714 - mae: 0.5714 - mse: 0.5714\n",
            "Epoch 52/100\n",
            "1/1 [==============================] - 0s 1ms/step - loss: 0.5714 - mae: 0.5714 - mse: 0.5714\n",
            "Epoch 53/100\n",
            "1/1 [==============================] - 0s 3ms/step - loss: 0.5714 - mae: 0.5714 - mse: 0.5714\n",
            "Epoch 54/100\n",
            "1/1 [==============================] - 0s 2ms/step - loss: 0.5714 - mae: 0.5714 - mse: 0.5714\n",
            "Epoch 55/100\n",
            "1/1 [==============================] - 0s 1ms/step - loss: 0.5714 - mae: 0.5714 - mse: 0.5714\n",
            "Epoch 56/100\n",
            "1/1 [==============================] - 0s 1ms/step - loss: 0.5714 - mae: 0.5714 - mse: 0.5714\n",
            "Epoch 57/100\n",
            "1/1 [==============================] - 0s 1ms/step - loss: 0.5714 - mae: 0.5714 - mse: 0.5714\n",
            "Epoch 58/100\n",
            "1/1 [==============================] - 0s 3ms/step - loss: 0.5714 - mae: 0.5714 - mse: 0.5714\n",
            "Epoch 59/100\n",
            "1/1 [==============================] - 0s 3ms/step - loss: 0.5714 - mae: 0.5714 - mse: 0.5714\n",
            "Epoch 60/100\n",
            "1/1 [==============================] - 0s 2ms/step - loss: 0.5714 - mae: 0.5714 - mse: 0.5714\n",
            "Epoch 61/100\n",
            "1/1 [==============================] - 0s 2ms/step - loss: 0.5714 - mae: 0.5714 - mse: 0.5714\n",
            "Epoch 62/100\n",
            "1/1 [==============================] - 0s 2ms/step - loss: 0.5714 - mae: 0.5714 - mse: 0.5714\n",
            "Epoch 63/100\n",
            "1/1 [==============================] - 0s 1ms/step - loss: 0.5714 - mae: 0.5714 - mse: 0.5714\n",
            "Epoch 64/100\n",
            "1/1 [==============================] - 0s 1ms/step - loss: 0.5714 - mae: 0.5714 - mse: 0.5714\n",
            "Epoch 65/100\n",
            "1/1 [==============================] - 0s 2ms/step - loss: 0.5714 - mae: 0.5714 - mse: 0.5714\n",
            "Epoch 66/100\n",
            "1/1 [==============================] - 0s 2ms/step - loss: 0.5714 - mae: 0.5714 - mse: 0.5714\n",
            "Epoch 67/100\n",
            "1/1 [==============================] - 0s 1ms/step - loss: 0.5714 - mae: 0.5714 - mse: 0.5714\n",
            "Epoch 68/100\n",
            "1/1 [==============================] - 0s 2ms/step - loss: 0.5714 - mae: 0.5714 - mse: 0.5714\n",
            "Epoch 69/100\n",
            "1/1 [==============================] - 0s 1ms/step - loss: 0.5714 - mae: 0.5714 - mse: 0.5714\n",
            "Epoch 70/100\n",
            "1/1 [==============================] - 0s 1ms/step - loss: 0.5714 - mae: 0.5714 - mse: 0.5714\n",
            "Epoch 71/100\n",
            "1/1 [==============================] - 0s 1ms/step - loss: 0.5714 - mae: 0.5714 - mse: 0.5714\n",
            "Epoch 72/100\n",
            "1/1 [==============================] - 0s 2ms/step - loss: 0.5714 - mae: 0.5714 - mse: 0.5714\n",
            "Epoch 73/100\n",
            "1/1 [==============================] - 0s 6ms/step - loss: 0.5714 - mae: 0.5714 - mse: 0.5714\n",
            "Epoch 74/100\n",
            "1/1 [==============================] - 0s 2ms/step - loss: 0.5714 - mae: 0.5714 - mse: 0.5714\n",
            "Epoch 75/100\n",
            "1/1 [==============================] - 0s 1ms/step - loss: 0.5714 - mae: 0.5714 - mse: 0.5714\n",
            "Epoch 76/100\n",
            "1/1 [==============================] - 0s 2ms/step - loss: 0.5714 - mae: 0.5714 - mse: 0.5714\n",
            "Epoch 77/100\n",
            "1/1 [==============================] - 0s 2ms/step - loss: 0.5714 - mae: 0.5714 - mse: 0.5714\n",
            "Epoch 78/100\n",
            "1/1 [==============================] - 0s 1ms/step - loss: 0.5714 - mae: 0.5714 - mse: 0.5714\n",
            "Epoch 79/100\n",
            "1/1 [==============================] - 0s 3ms/step - loss: 0.5714 - mae: 0.5714 - mse: 0.5714\n",
            "Epoch 80/100\n",
            "1/1 [==============================] - 0s 3ms/step - loss: 0.5714 - mae: 0.5714 - mse: 0.5714\n",
            "Epoch 81/100\n",
            "1/1 [==============================] - 0s 1ms/step - loss: 0.5714 - mae: 0.5714 - mse: 0.5714\n",
            "Epoch 82/100\n",
            "1/1 [==============================] - 0s 1ms/step - loss: 0.5714 - mae: 0.5714 - mse: 0.5714\n",
            "Epoch 83/100\n",
            "1/1 [==============================] - 0s 1ms/step - loss: 0.5714 - mae: 0.5714 - mse: 0.5714\n",
            "Epoch 84/100\n",
            "1/1 [==============================] - 0s 1ms/step - loss: 0.5714 - mae: 0.5714 - mse: 0.5714\n",
            "Epoch 85/100\n",
            "1/1 [==============================] - 0s 1ms/step - loss: 0.5714 - mae: 0.5714 - mse: 0.5714\n",
            "Epoch 86/100\n",
            "1/1 [==============================] - 0s 1ms/step - loss: 0.5714 - mae: 0.5714 - mse: 0.5714\n",
            "Epoch 87/100\n",
            "1/1 [==============================] - 0s 1ms/step - loss: 0.5714 - mae: 0.5714 - mse: 0.5714\n",
            "Epoch 88/100\n",
            "1/1 [==============================] - 0s 2ms/step - loss: 0.5714 - mae: 0.5714 - mse: 0.5714\n",
            "Epoch 89/100\n",
            "1/1 [==============================] - 0s 1ms/step - loss: 0.5714 - mae: 0.5714 - mse: 0.5714\n",
            "Epoch 90/100\n",
            "1/1 [==============================] - 0s 3ms/step - loss: 0.5714 - mae: 0.5714 - mse: 0.5714\n",
            "Epoch 91/100\n",
            "1/1 [==============================] - 0s 2ms/step - loss: 0.5714 - mae: 0.5714 - mse: 0.5714\n",
            "Epoch 92/100\n",
            "1/1 [==============================] - 0s 3ms/step - loss: 0.5714 - mae: 0.5714 - mse: 0.5714\n",
            "Epoch 93/100\n",
            "1/1 [==============================] - 0s 3ms/step - loss: 0.5714 - mae: 0.5714 - mse: 0.5714\n",
            "Epoch 94/100\n",
            "1/1 [==============================] - 0s 1ms/step - loss: 0.5714 - mae: 0.5714 - mse: 0.5714\n",
            "Epoch 95/100\n",
            "1/1 [==============================] - 0s 1ms/step - loss: 0.5714 - mae: 0.5714 - mse: 0.5714\n",
            "Epoch 96/100\n",
            "1/1 [==============================] - 0s 2ms/step - loss: 0.5714 - mae: 0.5714 - mse: 0.5714\n",
            "Epoch 97/100\n",
            "1/1 [==============================] - 0s 1ms/step - loss: 0.5714 - mae: 0.5714 - mse: 0.5714\n",
            "Epoch 98/100\n",
            "1/1 [==============================] - 0s 3ms/step - loss: 0.5714 - mae: 0.5714 - mse: 0.5714\n",
            "Epoch 99/100\n",
            "1/1 [==============================] - 0s 2ms/step - loss: 0.5714 - mae: 0.5714 - mse: 0.5714\n",
            "Epoch 100/100\n",
            "1/1 [==============================] - 0s 3ms/step - loss: 0.5714 - mae: 0.5714 - mse: 0.5714\n"
          ],
          "name": "stdout"
        }
      ]
    },
    {
      "cell_type": "markdown",
      "metadata": {
        "id": "KeJ79kXESD3W",
        "colab_type": "text"
      },
      "source": [
        "### Build a Tensor Keras Perceptron\n",
        "\n",
        "Try to match the architecture we used on Monday - inputs nodes and one output node. Apply this architecture to the XOR-ish dataset above. \n",
        "\n",
        "After fitting your model answer these questions: \n",
        "\n",
        "Are you able to achieve the same results as a bigger architecture from the first part of the assignment? Why is this disparity the case? What properties of the XOR dataset would cause this disparity? \n",
        "\n",
        "Now extrapolate this behavior on a much larger dataset in terms of features. What kind of architecture decisions could we make to avoid the problems the XOR dataset presents at scale? \n",
        "\n",
        "*Note:* The bias term is baked in by default in the Dense layer."
      ]
    },
    {
      "cell_type": "code",
      "metadata": {
        "id": "rX-Bu_brSD3X",
        "colab_type": "code",
        "colab": {}
      },
      "source": [
        "### Completed in above section"
      ],
      "execution_count": null,
      "outputs": []
    },
    {
      "cell_type": "markdown",
      "metadata": {
        "colab_type": "text",
        "id": "8b-r70o8p2Dm"
      },
      "source": [
        "## Try building/training a more complex MLP on a bigger dataset.\n",
        "\n",
        "Use TensorFlow Keras & the [MNIST dataset](http://yann.lecun.com/exdb/mnist/) to build the canonical handwriting digit recognizer and see what kind of accuracy you can achieve. \n",
        "\n",
        "If you need inspiration, the Internet is chalk-full of tutorials, but I want you to see how far you can get on your own first. I've linked to the original MNIST dataset above but it will probably be easier to download data through a neural network library. If you reference outside resources make sure you understand every line of code that you're using from other sources, and share with your fellow students helpful resources that you find.\n",
        "\n",
        "\n",
        "### Parts\n",
        "1. Gathering & Transforming the Data\n",
        "2. Making MNIST a Binary Problem\n",
        "3. Estimating your Neural Network (the part you focus on)"
      ]
    },
    {
      "cell_type": "markdown",
      "metadata": {
        "id": "wVQylLzFSD3c",
        "colab_type": "text"
      },
      "source": [
        "### Gathering the Data \n",
        "\n",
        "`keras` has a handy method to pull the mnist dataset for you. You'll notice that each observation is a 28x28 arrary which represents an image. Although most Neural Network frameworks can handle higher dimensional data, that is more overhead than necessary for us. We need to flatten the image to one long row which will be 784 values (28X28). Basically, you will be appending each row to one another to make on really long row. "
      ]
    },
    {
      "cell_type": "code",
      "metadata": {
        "id": "g-PrMNK9SD3d",
        "colab_type": "code",
        "colab": {}
      },
      "source": [
        "import numpy as np\n",
        "from tensorflow.keras.datasets import mnist\n",
        "from tensorflow.keras.utils import to_categorical"
      ],
      "execution_count": 6,
      "outputs": []
    },
    {
      "cell_type": "code",
      "metadata": {
        "id": "iMN0R2l0SD3h",
        "colab_type": "code",
        "colab": {}
      },
      "source": [
        "# input image dimensions\n",
        "img_rows, img_cols = 28, 28"
      ],
      "execution_count": 7,
      "outputs": []
    },
    {
      "cell_type": "code",
      "metadata": {
        "id": "ZPaclYzESD3m",
        "colab_type": "code",
        "colab": {
          "base_uri": "https://localhost:8080/",
          "height": 68
        },
        "outputId": "e69655a5-647b-45f5-841f-0ba5aa455b01"
      },
      "source": [
        "# the data, split between train and test sets\n",
        "(X_train, y_train), (X_test, y_test) = mnist.load_data()\n",
        "print(X_train.shape, y_train.shape, X_test.shape, y_test.shape)"
      ],
      "execution_count": 8,
      "outputs": [
        {
          "output_type": "stream",
          "text": [
            "Downloading data from https://storage.googleapis.com/tensorflow/tf-keras-datasets/mnist.npz\n",
            "11493376/11490434 [==============================] - 1s 0us/step\n",
            "(60000, 28, 28) (60000,) (10000, 28, 28) (10000,)\n"
          ],
          "name": "stdout"
        }
      ]
    },
    {
      "cell_type": "code",
      "metadata": {
        "id": "o5bYR1_bUkVe",
        "colab_type": "code",
        "colab": {
          "base_uri": "https://localhost:8080/",
          "height": 34
        },
        "outputId": "66e6e2d6-b95e-4fd3-b972-91b415752b73"
      },
      "source": [
        "# reshape the y arrays\n",
        "y_train = np.array(y_train).reshape(60000,1)\n",
        "y_test = np.array(y_test).reshape(10000,1)\n",
        "print(X_train.shape, y_train.shape, X_test.shape, y_test.shape)"
      ],
      "execution_count": 9,
      "outputs": [
        {
          "output_type": "stream",
          "text": [
            "(60000, 28, 28) (60000, 1) (10000, 28, 28) (10000, 1)\n"
          ],
          "name": "stdout"
        }
      ]
    },
    {
      "cell_type": "code",
      "metadata": {
        "id": "tYNnkIokSD3u",
        "colab_type": "code",
        "colab": {
          "base_uri": "https://localhost:8080/",
          "height": 34
        },
        "outputId": "8f09ac77-df60-4199-9e16-623b2c6a02f9"
      },
      "source": [
        "# Now the data should be in a format you're more familiar with\n",
        "X_train.shape"
      ],
      "execution_count": 10,
      "outputs": [
        {
          "output_type": "execute_result",
          "data": {
            "text/plain": [
              "(60000, 28, 28)"
            ]
          },
          "metadata": {
            "tags": []
          },
          "execution_count": 10
        }
      ]
    },
    {
      "cell_type": "code",
      "metadata": {
        "id": "ZlGhNVmCU15q",
        "colab_type": "code",
        "colab": {
          "base_uri": "https://localhost:8080/",
          "height": 34
        },
        "outputId": "6c63a12b-1308-48d8-e4f6-daefe414393a"
      },
      "source": [
        "X_train[0].shape"
      ],
      "execution_count": 11,
      "outputs": [
        {
          "output_type": "execute_result",
          "data": {
            "text/plain": [
              "(28, 28)"
            ]
          },
          "metadata": {
            "tags": []
          },
          "execution_count": 11
        }
      ]
    },
    {
      "cell_type": "code",
      "metadata": {
        "id": "jdrktqwHThZp",
        "colab_type": "code",
        "colab": {
          "base_uri": "https://localhost:8080/",
          "height": 248
        },
        "outputId": "dda5477f-1f9b-45df-845b-f7386d797a92"
      },
      "source": [
        "# show the first few images\n",
        "import matplotlib.pyplot as plt\n",
        "\n",
        "for i in range(9):\n",
        "    # Define subplot\n",
        "    plt.subplot(330 + 1 + i)\n",
        "    \n",
        "    # Plot raw pixel data\n",
        "    plt.imshow(X_train[i], cmap=plt.get_cmap('gray'))\n",
        "    plt.axis('off')\n",
        "\n",
        "# Show the figure\n",
        "plt.show()"
      ],
      "execution_count": 12,
      "outputs": [
        {
          "output_type": "display_data",
          "data": {
            "image/png": "[encoded data removed]",
            "text/plain": [
              "<Figure size 432x288 with 9 Axes>"
            ]
          },
          "metadata": {
            "tags": [],
            "needs_background": "light"
          }
        }
      ]
    },
    {
      "cell_type": "code",
      "metadata": {
        "id": "A3gM01sLVYwz",
        "colab_type": "code",
        "colab": {}
      },
      "source": [
        "\n",
        "# initialize the tensorflow model\n",
        "model = Sequential([\n",
        "    Flatten(input_shape=(28, 28)),\n",
        "    Dense(7, activation='softmax')\n",
        "])"
      ],
      "execution_count": 13,
      "outputs": []
    },
    {
      "cell_type": "code",
      "metadata": {
        "id": "9MVOYSxQVe09",
        "colab_type": "code",
        "colab": {
          "base_uri": "https://localhost:8080/",
          "height": 221
        },
        "outputId": "8185f52b-26d5-4acf-e945-5c95d069eb39"
      },
      "source": [
        "# set up early stopping\n",
        "callback=EarlyStopping(patience=3,verbose=1)\n",
        "\n",
        "# compile it\n",
        "model.compile(optimizer='adadelta', loss='sparse_categorical_crossentropy', metrics=['accuracy'])\n",
        "model.summary()"
      ],
      "execution_count": 14,
      "outputs": [
        {
          "output_type": "stream",
          "text": [
            "Model: \"sequential_2\"\n",
            "_________________________________________________________________\n",
            "Layer (type)                 Output Shape              Param #   \n",
            "=================================================================\n",
            "flatten (Flatten)            (None, 784)               0         \n",
            "_________________________________________________________________\n",
            "dense_4 (Dense)              (None, 7)                 5495      \n",
            "=================================================================\n",
            "Total params: 5,495\n",
            "Trainable params: 5,495\n",
            "Non-trainable params: 0\n",
            "_________________________________________________________________\n"
          ],
          "name": "stdout"
        }
      ]
    },
    {
      "cell_type": "code",
      "metadata": {
        "id": "4lxf_GdBVkf0",
        "colab_type": "code",
        "colab": {
          "base_uri": "https://localhost:8080/",
          "height": 153
        },
        "outputId": "4b3d1ba1-6e35-4467-9845-54fa0dc97c72"
      },
      "source": [
        "# fit the model\n",
        "model.fit(X_train,y_train,\n",
        "         epochs=20,\n",
        "         validation_data=(X_test,y_test),\n",
        "         callbacks=[callback])"
      ],
      "execution_count": 15,
      "outputs": [
        {
          "output_type": "stream",
          "text": [
            "Epoch 1/20\n",
            "1875/1875 [==============================] - 5s 3ms/step - loss: nan - accuracy: 0.0988 - val_loss: nan - val_accuracy: 0.0980\n",
            "Epoch 2/20\n",
            "1875/1875 [==============================] - 5s 2ms/step - loss: nan - accuracy: 0.0987 - val_loss: nan - val_accuracy: 0.0980\n",
            "Epoch 3/20\n",
            "1875/1875 [==============================] - 5s 2ms/step - loss: nan - accuracy: 0.0987 - val_loss: nan - val_accuracy: 0.0980\n",
            "Epoch 00003: early stopping\n"
          ],
          "name": "stdout"
        },
        {
          "output_type": "execute_result",
          "data": {
            "text/plain": [
              "<tensorflow.python.keras.callbacks.History at 0x7fe4ff68acc0>"
            ]
          },
          "metadata": {
            "tags": []
          },
          "execution_count": 15
        }
      ]
    },
    {
      "cell_type": "markdown",
      "metadata": {
        "id": "egpwBpD2SD3y",
        "colab_type": "text"
      },
      "source": [
        "### Making MNIST a Binary Problem \n",
        "MNIST is multiclass classification problem; however we haven't covered all the necessary techniques to handle this yet. You would need to one-hot encode the target, use a different loss metric, and use softmax activations for the last layer. This is all stuff we'll cover later this week, but let us simplify the problem for now: Zero or all else."
      ]
    },
    {
      "cell_type": "code",
      "metadata": {
        "id": "OyKfH1nESD3z",
        "colab_type": "code",
        "colab": {}
      },
      "source": [
        "import numpy as np\n",
        "\n",
        "y_temp = np.zeros(y_train.shape)\n",
        "y_temp[np.where(y_train == 0.0)[0]] = 1\n",
        "y_train = y_temp\n",
        "\n",
        "y_temp = np.zeros(y_test.shape)\n",
        "y_temp[np.where(y_test == 0.0)[0]] = 1\n",
        "y_test = y_temp"
      ],
      "execution_count": 16,
      "outputs": []
    },
    {
      "cell_type": "code",
      "metadata": {
        "id": "F0ydDb0rSD33",
        "colab_type": "code",
        "colab": {
          "base_uri": "https://localhost:8080/",
          "height": 136
        },
        "outputId": "ccdee15c-3faa-4591-99f1-39a5a7943ad3"
      },
      "source": [
        "# A Nice Binary target for ya to work with\n",
        "y_train"
      ],
      "execution_count": 17,
      "outputs": [
        {
          "output_type": "execute_result",
          "data": {
            "text/plain": [
              "array([[0.],\n",
              "       [1.],\n",
              "       [0.],\n",
              "       ...,\n",
              "       [0.],\n",
              "       [0.],\n",
              "       [0.]])"
            ]
          },
          "metadata": {
            "tags": []
          },
          "execution_count": 17
        }
      ]
    },
    {
      "cell_type": "markdown",
      "metadata": {
        "id": "0z4hPtxGSD36",
        "colab_type": "text"
      },
      "source": [
        "### Estimating Your `net"
      ]
    },
    {
      "cell_type": "code",
      "metadata": {
        "colab_type": "code",
        "id": "5MOPtYdk1HgA",
        "colab": {}
      },
      "source": [
        "##### Your Code Here #####\n",
        "\n"
      ],
      "execution_count": null,
      "outputs": []
    },
    {
      "cell_type": "markdown",
      "metadata": {
        "colab_type": "text",
        "id": "FwlRJSfBlCvy"
      },
      "source": [
        "## Stretch Goals: \n",
        "\n",
        "- Make MNIST a multiclass problem using cross entropy & soft-max\n",
        "- Implement Cross Validation model evaluation on your MNIST implementation \n",
        "- Research different [Gradient Descent Based Optimizers](https://keras.io/optimizers/)\n",
        " - [Siraj Raval the evolution of gradient descent](https://www.youtube.com/watch?v=nhqo0u1a6fw)\n",
        "- Build a housing price estimation model using a neural network. How does its accuracy compare with the regression models that we fit earlier on in class?"
      ]
    }
  ]
}